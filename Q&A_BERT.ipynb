{
  "nbformat": 4,
  "nbformat_minor": 0,
  "metadata": {
    "colab": {
      "name": "Q&A_BERT.ipynb",
      "provenance": [],
      "collapsed_sections": [],
      "authorship_tag": "ABX9TyOMFg73rFHCngKaK+LhYqVX",
      "include_colab_link": true
    },
    "kernelspec": {
      "name": "python3",
      "display_name": "Python 3"
    },
    "language_info": {
      "name": "python"
    },
    "accelerator": "TPU"
  },
  "cells": [
    {
      "cell_type": "markdown",
      "metadata": {
        "id": "view-in-github",
        "colab_type": "text"
      },
      "source": [
        "<a href=\"https://colab.research.google.com/github/kasidejcha/BERT_QnA/blob/main/Q%26A_BERT.ipynb\" target=\"_parent\"><img src=\"https://colab.research.google.com/assets/colab-badge.svg\" alt=\"Open In Colab\"/></a>"
      ]
    },
    {
      "cell_type": "code",
      "metadata": {
        "id": "51V3L63UUhvE",
        "colab": {
          "base_uri": "https://localhost:8080/",
          "height": 1000
        },
        "outputId": "da84f8bf-3533-4a6c-e6c5-88e355a60238"
      },
      "source": [
        "!pip install cdqa"
      ],
      "execution_count": 1,
      "outputs": [
        {
          "output_type": "stream",
          "text": [
            "Collecting cdqa\n",
            "\u001b[?25l  Downloading https://files.pythonhosted.org/packages/39/f5/af831b7ee653aa6bace99e39ec6b2754b1adb10bb60a1296f5e16f1f24ee/cdqa-1.3.9.tar.gz (45kB)\n",
            "\u001b[K     |████████████████████████████████| 51kB 2.7MB/s \n",
            "\u001b[?25hCollecting Flask==1.1.1\n",
            "\u001b[?25l  Downloading https://files.pythonhosted.org/packages/9b/93/628509b8d5dc749656a9641f4caf13540e2cdec85276964ff8f43bbb1d3b/Flask-1.1.1-py2.py3-none-any.whl (94kB)\n",
            "\u001b[K     |████████████████████████████████| 102kB 4.9MB/s \n",
            "\u001b[?25hCollecting flask_cors==3.0.8\n",
            "  Downloading https://files.pythonhosted.org/packages/78/38/e68b11daa5d613e3a91e4bf3da76c94ac9ee0d9cd515af9c1ab80d36f709/Flask_Cors-3.0.8-py2.py3-none-any.whl\n",
            "Collecting joblib==0.13.2\n",
            "\u001b[?25l  Downloading https://files.pythonhosted.org/packages/cd/c1/50a758e8247561e58cb87305b1e90b171b8c767b15b12a1734001f41d356/joblib-0.13.2-py2.py3-none-any.whl (278kB)\n",
            "\u001b[K     |████████████████████████████████| 286kB 34.1MB/s \n",
            "\u001b[?25hCollecting pandas==0.25.0\n",
            "\u001b[?25l  Downloading https://files.pythonhosted.org/packages/3b/42/dc1f4820b95fbdbc9352ec9ad0f0c40db2122e1f2440ea53c7f9fbccf2b8/pandas-0.25.0-cp37-cp37m-manylinux1_x86_64.whl (10.4MB)\n",
            "\u001b[K     |████████████████████████████████| 10.4MB 49.6MB/s \n",
            "\u001b[?25hCollecting prettytable==0.7.2\n",
            "  Downloading https://files.pythonhosted.org/packages/ef/30/4b0746848746ed5941f052479e7c23d2b56d174b82f4fd34a25e389831f5/prettytable-0.7.2.tar.bz2\n",
            "Collecting transformers==2.1.1\n",
            "\u001b[?25l  Downloading https://files.pythonhosted.org/packages/fd/f9/51824e40f0a23a49eab4fcaa45c1c797cbf9761adedd0b558dab7c958b34/transformers-2.1.1-py3-none-any.whl (311kB)\n",
            "\u001b[K     |████████████████████████████████| 317kB 34.8MB/s \n",
            "\u001b[?25hCollecting scikit_learn==0.21.2\n",
            "\u001b[?25l  Downloading https://files.pythonhosted.org/packages/21/a4/a48bd4b0d15395362b561df7e7247de87291105eb736a3b2aaffebf437b9/scikit_learn-0.21.2-cp37-cp37m-manylinux1_x86_64.whl (6.7MB)\n",
            "\u001b[K     |████████████████████████████████| 6.7MB 47.0MB/s \n",
            "\u001b[?25hCollecting tika==1.19\n",
            "  Downloading https://files.pythonhosted.org/packages/10/75/b566e446ffcf292f10c8d84c15a3d91615fe3d7ca8072a17c949d4e84b66/tika-1.19.tar.gz\n",
            "Collecting torch==1.2.0\n",
            "\u001b[?25l  Downloading https://files.pythonhosted.org/packages/05/65/5248be50c55ab7429dd5c11f5e2f9f5865606b80e854ca63139ad1a584f2/torch-1.2.0-cp37-cp37m-manylinux1_x86_64.whl (748.9MB)\n",
            "\u001b[K     |████████████████████████████████| 748.9MB 22kB/s \n",
            "\u001b[?25hCollecting markdown==3.1.1\n",
            "\u001b[?25l  Downloading https://files.pythonhosted.org/packages/c0/4e/fd492e91abdc2d2fcb70ef453064d980688762079397f779758e055f6575/Markdown-3.1.1-py2.py3-none-any.whl (87kB)\n",
            "\u001b[K     |████████████████████████████████| 92kB 7.9MB/s \n",
            "\u001b[?25hCollecting tqdm==4.32.2\n",
            "\u001b[?25l  Downloading https://files.pythonhosted.org/packages/9f/3d/7a6b68b631d2ab54975f3a4863f3c4e9b26445353264ef01f465dc9b0208/tqdm-4.32.2-py2.py3-none-any.whl (50kB)\n",
            "\u001b[K     |████████████████████████████████| 51kB 3.5MB/s \n",
            "\u001b[?25hCollecting wget==3.2\n",
            "  Downloading https://files.pythonhosted.org/packages/47/6a/62e288da7bcda82b935ff0c6cfe542970f04e29c756b0e147251b2fb251f/wget-3.2.zip\n",
            "Requirement already satisfied: click>=5.1 in /usr/local/lib/python3.7/dist-packages (from Flask==1.1.1->cdqa) (7.1.2)\n",
            "Requirement already satisfied: Werkzeug>=0.15 in /usr/local/lib/python3.7/dist-packages (from Flask==1.1.1->cdqa) (1.0.1)\n",
            "Requirement already satisfied: itsdangerous>=0.24 in /usr/local/lib/python3.7/dist-packages (from Flask==1.1.1->cdqa) (1.1.0)\n",
            "Requirement already satisfied: Jinja2>=2.10.1 in /usr/local/lib/python3.7/dist-packages (from Flask==1.1.1->cdqa) (2.11.3)\n",
            "Requirement already satisfied: Six in /usr/local/lib/python3.7/dist-packages (from flask_cors==3.0.8->cdqa) (1.15.0)\n",
            "Requirement already satisfied: python-dateutil>=2.6.1 in /usr/local/lib/python3.7/dist-packages (from pandas==0.25.0->cdqa) (2.8.1)\n",
            "Requirement already satisfied: numpy>=1.13.3 in /usr/local/lib/python3.7/dist-packages (from pandas==0.25.0->cdqa) (1.19.5)\n",
            "Requirement already satisfied: pytz>=2017.2 in /usr/local/lib/python3.7/dist-packages (from pandas==0.25.0->cdqa) (2018.9)\n",
            "Collecting boto3\n",
            "\u001b[?25l  Downloading https://files.pythonhosted.org/packages/d2/8f/42959300c543b4d34bc9f9b54954471a33384c181084ed84f070763d7f37/boto3-1.17.62-py2.py3-none-any.whl (131kB)\n",
            "\u001b[K     |████████████████████████████████| 133kB 41.7MB/s \n",
            "\u001b[?25hRequirement already satisfied: requests in /usr/local/lib/python3.7/dist-packages (from transformers==2.1.1->cdqa) (2.23.0)\n",
            "Collecting sentencepiece\n",
            "\u001b[?25l  Downloading https://files.pythonhosted.org/packages/f5/99/e0808cb947ba10f575839c43e8fafc9cc44e4a7a2c8f79c60db48220a577/sentencepiece-0.1.95-cp37-cp37m-manylinux2014_x86_64.whl (1.2MB)\n",
            "\u001b[K     |████████████████████████████████| 1.2MB 40.8MB/s \n",
            "\u001b[?25hCollecting sacremoses\n",
            "\u001b[?25l  Downloading https://files.pythonhosted.org/packages/75/ee/67241dc87f266093c533a2d4d3d69438e57d7a90abb216fa076e7d475d4a/sacremoses-0.0.45-py3-none-any.whl (895kB)\n",
            "\u001b[K     |████████████████████████████████| 901kB 23.6MB/s \n",
            "\u001b[?25hRequirement already satisfied: regex in /usr/local/lib/python3.7/dist-packages (from transformers==2.1.1->cdqa) (2019.12.20)\n",
            "Requirement already satisfied: scipy>=0.17.0 in /usr/local/lib/python3.7/dist-packages (from scikit_learn==0.21.2->cdqa) (1.4.1)\n",
            "Requirement already satisfied: setuptools in /usr/local/lib/python3.7/dist-packages (from tika==1.19->cdqa) (56.0.0)\n",
            "Requirement already satisfied: MarkupSafe>=0.23 in /usr/local/lib/python3.7/dist-packages (from Jinja2>=2.10.1->Flask==1.1.1->cdqa) (1.1.1)\n",
            "Collecting botocore<1.21.0,>=1.20.62\n",
            "\u001b[?25l  Downloading https://files.pythonhosted.org/packages/bd/60/ba830f93176fdc23166043298173ee2aecd5cf150f1ede51d6506f021deb/botocore-1.20.62-py2.py3-none-any.whl (7.5MB)\n",
            "\u001b[K     |████████████████████████████████| 7.5MB 31.9MB/s \n",
            "\u001b[?25hCollecting s3transfer<0.5.0,>=0.4.0\n",
            "\u001b[?25l  Downloading https://files.pythonhosted.org/packages/63/d0/693477c688348654ddc21dcdce0817653a294aa43f41771084c25e7ff9c7/s3transfer-0.4.2-py2.py3-none-any.whl (79kB)\n",
            "\u001b[K     |████████████████████████████████| 81kB 8.7MB/s \n",
            "\u001b[?25hCollecting jmespath<1.0.0,>=0.7.1\n",
            "  Downloading https://files.pythonhosted.org/packages/07/cb/5f001272b6faeb23c1c9e0acc04d48eaaf5c862c17709d20e3469c6e0139/jmespath-0.10.0-py2.py3-none-any.whl\n",
            "Requirement already satisfied: idna<3,>=2.5 in /usr/local/lib/python3.7/dist-packages (from requests->transformers==2.1.1->cdqa) (2.10)\n",
            "Requirement already satisfied: certifi>=2017.4.17 in /usr/local/lib/python3.7/dist-packages (from requests->transformers==2.1.1->cdqa) (2020.12.5)\n",
            "Requirement already satisfied: urllib3!=1.25.0,!=1.25.1,<1.26,>=1.21.1 in /usr/local/lib/python3.7/dist-packages (from requests->transformers==2.1.1->cdqa) (1.24.3)\n",
            "Requirement already satisfied: chardet<4,>=3.0.2 in /usr/local/lib/python3.7/dist-packages (from requests->transformers==2.1.1->cdqa) (3.0.4)\n",
            "Building wheels for collected packages: cdqa, prettytable, tika, wget\n",
            "  Building wheel for cdqa (setup.py) ... \u001b[?25l\u001b[?25hdone\n",
            "  Created wheel for cdqa: filename=cdqa-1.3.9-cp37-none-any.whl size=47640 sha256=65f942e6bc32d078eb906308c4a86729135c975c3f939c1e87156c5d7e79c39e\n",
            "  Stored in directory: /root/.cache/pip/wheels/8b/9a/68/d3f7651ea29c30d1bebc9e946bf5a8cf922e1c86fb6b8a33d9\n",
            "  Building wheel for prettytable (setup.py) ... \u001b[?25l\u001b[?25hdone\n",
            "  Created wheel for prettytable: filename=prettytable-0.7.2-cp37-none-any.whl size=13700 sha256=efd4bda63e621ad32ec361abdc9f69ffae317663b2ba01202c30f61aa486d444\n",
            "  Stored in directory: /root/.cache/pip/wheels/80/34/1c/3967380d9676d162cb59513bd9dc862d0584e045a162095606\n",
            "  Building wheel for tika (setup.py) ... \u001b[?25l\u001b[?25hdone\n",
            "  Created wheel for tika: filename=tika-1.19-cp37-none-any.whl size=29224 sha256=fb75521f22b9b84abb83c0ef220079e81238ce8795808abee6cb17386b58f1b2\n",
            "  Stored in directory: /root/.cache/pip/wheels/b4/db/8a/3a3f0c0725448eaa92703e3dda71e29dc13a119ff6c1036848\n",
            "  Building wheel for wget (setup.py) ... \u001b[?25l\u001b[?25hdone\n",
            "  Created wheel for wget: filename=wget-3.2-cp37-none-any.whl size=9681 sha256=5cf19d45858da891c905f061d9f56b42e0830035bd500277cd133870aedfb866\n",
            "  Stored in directory: /root/.cache/pip/wheels/40/15/30/7d8f7cea2902b4db79e3fea550d7d7b85ecb27ef992b618f3f\n",
            "Successfully built cdqa prettytable tika wget\n",
            "\u001b[31mERROR: torchvision 0.9.1+cu101 has requirement torch==1.8.1, but you'll have torch 1.2.0 which is incompatible.\u001b[0m\n",
            "\u001b[31mERROR: torchtext 0.9.1 has requirement torch==1.8.1, but you'll have torch 1.2.0 which is incompatible.\u001b[0m\n",
            "\u001b[31mERROR: spacy 2.2.4 has requirement tqdm<5.0.0,>=4.38.0, but you'll have tqdm 4.32.2 which is incompatible.\u001b[0m\n",
            "\u001b[31mERROR: librosa 0.8.0 has requirement joblib>=0.14, but you'll have joblib 0.13.2 which is incompatible.\u001b[0m\n",
            "\u001b[31mERROR: google-colab 1.0.0 has requirement pandas~=1.1.0; python_version >= \"3.0\", but you'll have pandas 0.25.0 which is incompatible.\u001b[0m\n",
            "\u001b[31mERROR: fbprophet 0.7.1 has requirement pandas>=1.0.4, but you'll have pandas 0.25.0 which is incompatible.\u001b[0m\n",
            "\u001b[31mERROR: fbprophet 0.7.1 has requirement tqdm>=4.36.1, but you'll have tqdm 4.32.2 which is incompatible.\u001b[0m\n",
            "\u001b[31mERROR: botocore 1.20.62 has requirement urllib3<1.27,>=1.25.4, but you'll have urllib3 1.24.3 which is incompatible.\u001b[0m\n",
            "Installing collected packages: Flask, flask-cors, joblib, pandas, prettytable, jmespath, botocore, s3transfer, boto3, tqdm, sentencepiece, sacremoses, transformers, scikit-learn, tika, torch, markdown, wget, cdqa\n",
            "  Found existing installation: Flask 1.1.2\n",
            "    Uninstalling Flask-1.1.2:\n",
            "      Successfully uninstalled Flask-1.1.2\n",
            "  Found existing installation: joblib 1.0.1\n",
            "    Uninstalling joblib-1.0.1:\n",
            "      Successfully uninstalled joblib-1.0.1\n",
            "  Found existing installation: pandas 1.1.5\n",
            "    Uninstalling pandas-1.1.5:\n",
            "      Successfully uninstalled pandas-1.1.5\n",
            "  Found existing installation: prettytable 2.1.0\n",
            "    Uninstalling prettytable-2.1.0:\n",
            "      Successfully uninstalled prettytable-2.1.0\n",
            "  Found existing installation: tqdm 4.41.1\n",
            "    Uninstalling tqdm-4.41.1:\n",
            "      Successfully uninstalled tqdm-4.41.1\n",
            "  Found existing installation: scikit-learn 0.22.2.post1\n",
            "    Uninstalling scikit-learn-0.22.2.post1:\n",
            "      Successfully uninstalled scikit-learn-0.22.2.post1\n",
            "  Found existing installation: torch 1.8.1+cu101\n",
            "    Uninstalling torch-1.8.1+cu101:\n",
            "      Successfully uninstalled torch-1.8.1+cu101\n",
            "  Found existing installation: Markdown 3.3.4\n",
            "    Uninstalling Markdown-3.3.4:\n",
            "      Successfully uninstalled Markdown-3.3.4\n",
            "Successfully installed Flask-1.1.1 boto3-1.17.62 botocore-1.20.62 cdqa-1.3.9 flask-cors-3.0.8 jmespath-0.10.0 joblib-0.13.2 markdown-3.1.1 pandas-0.25.0 prettytable-0.7.2 s3transfer-0.4.2 sacremoses-0.0.45 scikit-learn-0.21.2 sentencepiece-0.1.95 tika-1.19 torch-1.2.0 tqdm-4.32.2 transformers-2.1.1 wget-3.2\n"
          ],
          "name": "stdout"
        },
        {
          "output_type": "display_data",
          "data": {
            "application/vnd.colab-display-data+json": {
              "pip_warning": {
                "packages": [
                  "pandas"
                ]
              }
            }
          },
          "metadata": {
            "tags": []
          }
        }
      ]
    },
    {
      "cell_type": "code",
      "metadata": {
        "colab": {
          "base_uri": "https://localhost:8080/"
        },
        "id": "mXuMa5tQvVmr",
        "outputId": "e6321c71-456e-491b-e402-66a14696626c"
      },
      "source": [
        "import os\n",
        "import pandas as pd\n",
        "from ast import literal_eval\n",
        "from cdqa.utils.converters import pdf_converter  # converts to pandas dataframe\n",
        "from cdqa.pipeline import QAPipeline     # Question Answer Pipeline\n",
        "from cdqa.utils.download import download_model   # to download the pre-trained model"
      ],
      "execution_count": 1,
      "outputs": [
        {
          "output_type": "stream",
          "text": [
            "/usr/local/lib/python3.7/dist-packages/tqdm/autonotebook/__init__.py:18: TqdmExperimentalWarning: Using `tqdm.autonotebook.tqdm` in notebook mode. Use `tqdm.tqdm` instead to force console mode (e.g. in jupyter console)\n",
            "  \" (e.g. in jupyter console)\", TqdmExperimentalWarning)\n"
          ],
          "name": "stderr"
        }
      ]
    },
    {
      "cell_type": "code",
      "metadata": {
        "colab": {
          "base_uri": "https://localhost:8080/"
        },
        "id": "lnn6UbT1G0Jf",
        "outputId": "96785bc3-a004-4155-c7d8-5a3275974b8a"
      },
      "source": [
        "download_model(model='bert-squad_1.1', dir='./models')"
      ],
      "execution_count": 2,
      "outputs": [
        {
          "output_type": "stream",
          "text": [
            "\n",
            "Downloading trained model...\n"
          ],
          "name": "stdout"
        }
      ]
    },
    {
      "cell_type": "code",
      "metadata": {
        "id": "ujlUcCobUT6R"
      },
      "source": [
        "!mkdir docs"
      ],
      "execution_count": 3,
      "outputs": []
    },
    {
      "cell_type": "code",
      "metadata": {
        "colab": {
          "base_uri": "https://localhost:8080/"
        },
        "id": "5_oVNRrYVzsm",
        "outputId": "e2e2e164-0c09-4ed5-f768-6981abec5baf"
      },
      "source": [
        "!wget -P ./docs/ https://www.cancer.org/content/dam/CRC/PDF/Public/6041.00.pdf\n",
        "!wget -P ./docs/ https://www.ons.org/sites/default/files/publication_pdfs/Sample_ChemoBio4th_Chap1.pdf\n",
        "!wget -P ./docs/ http://clinicalestablishments.gov.in/WriteReadData/329.pdf\n",
        "!wget -P ./docs/ https://www.who.int/cancer/modules/FINAL_Module_4.pdf\n",
        "!wget -P ./docs/ https://www.iarc.who.int/wp-content/uploads/2018/07/wcr-6.pdf\n",
        "!wget -P ./docs/ https://www.medsci.org/v09p0193.pdf\n",
        "!wget -P ./docs/ https://www.thoracic.org/patients/patient-resources/resources/lung-cancer-treatment.pdf\n",
        "!wget -P ./docs/ https://www.eviq.org.au/getmedia/8a05e996-10bf-48ff-88df-b2c1b8800868/Aboriginal-Health-Worker-Booklet.pdf.aspx?ext=.pdf\n",
        "!wget -P ./docs/ https://www-pub.iaea.org/MTCD/Publications/PDF/P1638_web.pdf"
      ],
      "execution_count": 6,
      "outputs": [
        {
          "output_type": "stream",
          "text": [
            "--2021-05-02 04:36:05--  https://www.cancer.org/content/dam/CRC/PDF/Public/6041.00.pdf\n",
            "Resolving www.cancer.org (www.cancer.org)... 13.249.87.99, 13.249.87.3, 13.249.87.41, ...\n",
            "Connecting to www.cancer.org (www.cancer.org)|13.249.87.99|:443... connected.\n",
            "HTTP request sent, awaiting response... 200 OK\n",
            "Length: 35508 (35K) [application/pdf]\n",
            "Saving to: ‘./docs/6041.00.pdf.1’\n",
            "\n",
            "\r6041.00.pdf.1         0%[                    ]       0  --.-KB/s               \r6041.00.pdf.1       100%[===================>]  34.68K  --.-KB/s    in 0.01s   \n",
            "\n",
            "2021-05-02 04:36:05 (3.24 MB/s) - ‘./docs/6041.00.pdf.1’ saved [35508/35508]\n",
            "\n",
            "--2021-05-02 04:36:06--  https://www.ons.org/sites/default/files/publication_pdfs/Sample_ChemoBio4th_Chap1.pdf\n",
            "Resolving www.ons.org (www.ons.org)... 107.154.79.18\n",
            "Connecting to www.ons.org (www.ons.org)|107.154.79.18|:443... connected.\n",
            "HTTP request sent, awaiting response... 200 OK\n",
            "Length: 547085 (534K) [application/pdf]\n",
            "Saving to: ‘./docs/Sample_ChemoBio4th_Chap1.pdf.1’\n",
            "\n",
            "Sample_ChemoBio4th_ 100%[===================>] 534.26K  --.-KB/s    in 0.1s    \n",
            "\n",
            "2021-05-02 04:36:06 (4.44 MB/s) - ‘./docs/Sample_ChemoBio4th_Chap1.pdf.1’ saved [547085/547085]\n",
            "\n",
            "--2021-05-02 04:36:06--  http://clinicalestablishments.gov.in/WriteReadData/329.pdf\n",
            "Resolving clinicalestablishments.gov.in (clinicalestablishments.gov.in)... 164.100.117.127\n",
            "Connecting to clinicalestablishments.gov.in (clinicalestablishments.gov.in)|164.100.117.127|:80... connected.\n",
            "HTTP request sent, awaiting response... 200 OK\n",
            "Length: 1684404 (1.6M) [application/pdf]\n",
            "Saving to: ‘./docs/329.pdf.1’\n",
            "\n",
            "329.pdf.1           100%[===================>]   1.61M   410KB/s    in 4.0s    \n",
            "\n",
            "2021-05-02 04:36:11 (410 KB/s) - ‘./docs/329.pdf.1’ saved [1684404/1684404]\n",
            "\n",
            "--2021-05-02 04:36:11--  https://www.who.int/cancer/modules/FINAL_Module_4.pdf\n",
            "Resolving www.who.int (www.who.int)... 104.17.112.188, 104.17.113.188, 2606:4700::6811:71bc, ...\n",
            "Connecting to www.who.int (www.who.int)|104.17.112.188|:443... connected.\n",
            "HTTP request sent, awaiting response... 200 OK\n",
            "Length: 5769003 (5.5M) [application/pdf]\n",
            "Saving to: ‘./docs/FINAL_Module_4.pdf.1’\n",
            "\n",
            "FINAL_Module_4.pdf. 100%[===================>]   5.50M  --.-KB/s    in 0.1s    \n",
            "\n",
            "2021-05-02 04:36:11 (54.7 MB/s) - ‘./docs/FINAL_Module_4.pdf.1’ saved [5769003/5769003]\n",
            "\n",
            "--2021-05-02 04:36:11--  https://www.iarc.who.int/wp-content/uploads/2018/07/wcr-6.pdf\n",
            "Resolving www.iarc.who.int (www.iarc.who.int)... 193.51.164.6\n",
            "Connecting to www.iarc.who.int (www.iarc.who.int)|193.51.164.6|:443... connected.\n",
            "HTTP request sent, awaiting response... 200 OK\n",
            "Length: 4600056 (4.4M) [application/pdf]\n",
            "Saving to: ‘./docs/wcr-6.pdf.1’\n",
            "\n",
            "wcr-6.pdf.1         100%[===================>]   4.39M   974KB/s    in 4.6s    \n",
            "\n",
            "2021-05-02 04:36:17 (974 KB/s) - ‘./docs/wcr-6.pdf.1’ saved [4600056/4600056]\n",
            "\n",
            "--2021-05-02 04:36:17--  https://www.medsci.org/v09p0193.pdf\n",
            "Resolving www.medsci.org (www.medsci.org)... 74.208.168.73\n",
            "Connecting to www.medsci.org (www.medsci.org)|74.208.168.73|:443... connected.\n",
            "HTTP request sent, awaiting response... 200 OK\n",
            "Length: 385689 (377K) [application/pdf]\n",
            "Saving to: ‘./docs/v09p0193.pdf.1’\n",
            "\n",
            "v09p0193.pdf.1      100%[===================>] 376.65K  --.-KB/s    in 0.1s    \n",
            "\n",
            "2021-05-02 04:36:18 (3.76 MB/s) - ‘./docs/v09p0193.pdf.1’ saved [385689/385689]\n",
            "\n",
            "--2021-05-02 04:36:18--  https://www.thoracic.org/patients/patient-resources/resources/lung-cancer-treatment.pdf\n",
            "Resolving www.thoracic.org (www.thoracic.org)... 52.204.153.237, 52.6.236.198, 18.211.59.73\n",
            "Connecting to www.thoracic.org (www.thoracic.org)|52.204.153.237|:443... connected.\n",
            "HTTP request sent, awaiting response... 200 OK\n",
            "Length: 460081 (449K) [application/pdf]\n",
            "Saving to: ‘./docs/lung-cancer-treatment.pdf.1’\n",
            "\n",
            "lung-cancer-treatme 100%[===================>] 449.30K  --.-KB/s    in 0.1s    \n",
            "\n",
            "2021-05-02 04:36:18 (3.65 MB/s) - ‘./docs/lung-cancer-treatment.pdf.1’ saved [460081/460081]\n",
            "\n",
            "--2021-05-02 04:36:18--  https://www.eviq.org.au/getmedia/8a05e996-10bf-48ff-88df-b2c1b8800868/Aboriginal-Health-Worker-Booklet.pdf.aspx?ext=.pdf\n",
            "Resolving www.eviq.org.au (www.eviq.org.au)... 203.5.108.83\n",
            "Connecting to www.eviq.org.au (www.eviq.org.au)|203.5.108.83|:443... connected.\n",
            "HTTP request sent, awaiting response... 200 OK\n",
            "Length: 3463988 (3.3M) [application/pdf]\n",
            "Saving to: ‘./docs/Aboriginal-Health-Worker-Booklet.pdf.aspx?ext=.pdf.1’\n",
            "\n",
            "Aboriginal-Health-W 100%[===================>]   3.30M   341KB/s    in 10s     \n",
            "\n",
            "2021-05-02 04:36:29 (336 KB/s) - ‘./docs/Aboriginal-Health-Worker-Booklet.pdf.aspx?ext=.pdf.1’ saved [3463988/3463988]\n",
            "\n",
            "--2021-05-02 04:36:29--  https://www-pub.iaea.org/MTCD/Publications/PDF/P1638_web.pdf\n",
            "Resolving www-pub.iaea.org (www-pub.iaea.org)... 172.67.0.125, 104.20.23.134, 104.20.22.134, ...\n",
            "Connecting to www-pub.iaea.org (www-pub.iaea.org)|172.67.0.125|:443... connected.\n",
            "HTTP request sent, awaiting response... 200 OK\n",
            "Length: 7530423 (7.2M) [application/pdf]\n",
            "Saving to: ‘./docs/P1638_web.pdf.1’\n",
            "\n",
            "P1638_web.pdf.1     100%[===================>]   7.18M  --.-KB/s    in 0.1s    \n",
            "\n",
            "2021-05-02 04:36:30 (68.5 MB/s) - ‘./docs/P1638_web.pdf.1’ saved [7530423/7530423]\n",
            "\n"
          ],
          "name": "stdout"
        }
      ]
    },
    {
      "cell_type": "code",
      "metadata": {
        "id": "DH4l7ItMV-Nr"
      },
      "source": [
        "# convert pdf text to pandas dataframe\n",
        "df=pdf_converter(directory_path='./docs/')\n",
        "# df.head()"
      ],
      "execution_count": null,
      "outputs": []
    },
    {
      "cell_type": "code",
      "metadata": {
        "colab": {
          "base_uri": "https://localhost:8080/"
        },
        "id": "YX7u92PAXtIj",
        "outputId": "2f0fda69-e962-4d23-d47d-eb17aea10fb3"
      },
      "source": [
        "print(df)"
      ],
      "execution_count": 16,
      "outputs": [
        {
          "output_type": "stream",
          "text": [
            "                                        title                                         paragraphs\n",
            "0                                   P1638_web  [RADIOTHERAPYIN CANCER CARE:FACING THEGLOBAL C...\n",
            "1                                     8776.00  [Treating Ovarian Cancer cancer.org | 1.800.22...\n",
            "2                       lung-cancer-treatment  [How does the type of my lung cancer affect  m...\n",
            "3                                     6041.00  [cancer.org | 1.800.227.2345, What Is Cancer? ...\n",
            "4  Aboriginal-Health-Worker-Booklet.aspx?ext=  [Cancer treatment  side effectsA guide for Abo...\n",
            "5                              FINAL_Module_4  [FINAL-Cancer Module 4 April 22-04-08.pdf, Dia...\n",
            "6                                       wcr-6  [Cancer managementCancer managementCancer mana...\n",
            "7                                    v09p0193  [Int. J. Med. Sci. 2012, 9   http://www.medsci...\n",
            "8                    Sample_ChemoBio4th_Chap1  [1, Chapter 1, Overview of Cancer and Cancer T...\n",
            "9                                         329  [1  , STANDARD TREATMENT , GUIDELINES  , ONCOL...\n"
          ],
          "name": "stdout"
        }
      ]
    },
    {
      "cell_type": "code",
      "metadata": {
        "id": "LVfwWVyUX5yi",
        "colab": {
          "base_uri": "https://localhost:8080/"
        },
        "outputId": "7ebe50f7-ea66-4dcc-e364-86dbfad08d9a"
      },
      "source": [
        "# call QApipeline to read the model\n",
        "cdqa_pipeline=QAPipeline(reader='./models/bert_qa.joblib',max_df=1.0)"
      ],
      "execution_count": 8,
      "outputs": [
        {
          "output_type": "stream",
          "text": [
            "100%|██████████| 231508/231508 [00:00<00:00, 1865614.30B/s]\n"
          ],
          "name": "stderr"
        }
      ]
    },
    {
      "cell_type": "code",
      "metadata": {
        "colab": {
          "base_uri": "https://localhost:8080/"
        },
        "id": "k4xsBS5oYBir",
        "outputId": "cb5de252-050a-4165-d59e-bf79832513ec"
      },
      "source": [
        "# fit the model\n",
        "cdqa_pipeline.fit_retriever(df=df)"
      ],
      "execution_count": 9,
      "outputs": [
        {
          "output_type": "execute_result",
          "data": {
            "text/plain": [
              "QAPipeline(reader=BertQA(adam_epsilon=1e-08, bert_model='bert-base-uncased',\n",
              "                         do_lower_case=True, fp16=False,\n",
              "                         gradient_accumulation_steps=1, learning_rate=5e-05,\n",
              "                         local_rank=-1, loss_scale=0, max_answer_length=30,\n",
              "                         n_best_size=20, no_cuda=False,\n",
              "                         null_score_diff_threshold=0.0, num_train_epochs=3.0,\n",
              "                         output_dir=None, predict_batch_size=8, seed=42,\n",
              "                         server_ip='', server_po..._size=8,\n",
              "                         verbose_logging=False, version_2_with_negative=False,\n",
              "                         warmup_proportion=0.1, warmup_steps=0),\n",
              "           retrieve_by_doc=False,\n",
              "           retriever=BM25Retriever(b=0.75, floor=None, k1=2.0, lowercase=True,\n",
              "                                   max_df=1.0, min_df=2, ngram_range=(1, 2),\n",
              "                                   preprocessor=None, stop_words='english',\n",
              "                                   token_pattern='(?u)\\\\b\\\\w\\\\w+\\\\b',\n",
              "                                   tokenizer=None, top_n=20, verbose=False,\n",
              "                                   vocabulary=None))"
            ]
          },
          "metadata": {
            "tags": []
          },
          "execution_count": 9
        }
      ]
    },
    {
      "cell_type": "code",
      "metadata": {
        "colab": {
          "base_uri": "https://localhost:8080/"
        },
        "id": "lrgSHBAraIlO",
        "outputId": "a26740a1-f7b4-453e-f0f0-74f4a5892616"
      },
      "source": [
        "query='What are cancer diagnosis steps?'\n",
        "prediction=cdqa_pipeline.predict(query)\n",
        "print('query:{}'.format(query))\n",
        "print('answer:{}'.format(prediction[0]))\n",
        "print('title:{}'.format(prediction[1]))\n",
        "print('paragraph:{}'.format(prediction[2]))"
      ],
      "execution_count": 21,
      "outputs": [
        {
          "output_type": "stream",
          "text": [
            "query:What are Cancer diagnosis step?\n",
            "answer:evaluation of the patient’s history, clinical examinations, review of laboratory test results and radiological data\n",
            "title:FINAL_Module_4\n",
            "paragraph:Cancer diagnosis comprises the various techniques and procedures used to detect or confirm the presence of cancer. Diagnosis typically involves evaluation of the patient’s history, clinical examinations, review of laboratory test results and radiological data, and microscopic examination of tissue samples obtained by biopsy or fine-needle aspiration. \n"
          ],
          "name": "stdout"
        }
      ]
    },
    {
      "cell_type": "code",
      "metadata": {
        "colab": {
          "base_uri": "https://localhost:8080/"
        },
        "id": "3LrEYuG0YMGK",
        "outputId": "717ad364-1ee1-4bfb-ecf0-115b1822b0ec"
      },
      "source": [
        "query='What are the symptoms of cancer?'\n",
        "prediction=cdqa_pipeline.predict(query)\n",
        "print('query:{}'.format(query))\n",
        "print('answer:{}'.format(prediction[0]))\n",
        "print('title:{}'.format(prediction[1]))\n",
        "print('paragraph:{}'.format(prediction[2]))"
      ],
      "execution_count": 12,
      "outputs": [
        {
          "output_type": "stream",
          "text": [
            "query:What are the symptoms of cancer?\n",
            "answer:pain, bleeding and organ obstruction caused by tumours\n",
            "title:P1638_web\n",
            "paragraph:Radiotherapy is one of the most effective means of providing palliation of cancer symptoms. The symptoms most commonly relieved with palliative radiotherapy are pain, bleeding and organ obstruction caused by tumours. Recognizing the importance of radiotherapy in palliative care, this topic is and should be included in the curriculum for the training and education of radiation oncologists. Trainees should be familiar with the principles of both palliative and supportive care, together with the principles of radiation biology, the indications for the use of radiotherapy as a curative and palliative modality, the control of cancer related symptoms and the adverse effects of treatment.\n"
          ],
          "name": "stdout"
        }
      ]
    },
    {
      "cell_type": "code",
      "metadata": {
        "colab": {
          "base_uri": "https://localhost:8080/"
        },
        "id": "Vaq_uRReYM-W",
        "outputId": "845e6c46-1d9b-4d99-9dc0-f1385e43a8f1"
      },
      "source": [
        "query='How to treat cancer?'\n",
        "prediction=cdqa_pipeline.predict(query)\n",
        "print('query:{}'.format(query))\n",
        "print('answer:{}'.format(prediction[0]))\n",
        "print('title:{}'.format(prediction[1]))\n",
        "print('paragraph:{}'.format(prediction[2]))"
      ],
      "execution_count": 13,
      "outputs": [
        {
          "output_type": "stream",
          "text": [
            "query:How to treat cancer?\n",
            "answer:X rays\n",
            "title:P1638_web\n",
            "paragraph:540 images of the inside of the body. At high doses, X rays are used to treat cancer.\n"
          ],
          "name": "stdout"
        }
      ]
    },
    {
      "cell_type": "code",
      "metadata": {
        "id": "SUE32eSyYNC4"
      },
      "source": [
        ""
      ],
      "execution_count": null,
      "outputs": []
    }
  ]
}